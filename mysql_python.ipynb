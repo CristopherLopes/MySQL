{
 "cells": [
  {
   "cell_type": "code",
   "execution_count": 1,
   "metadata": {},
   "outputs": [],
   "source": [
    "import pyodbc\n",
    "\n",
    "#CRUD\n",
    "#create: insert\n",
    "#read (Retrieve): select\n",
    "#update \n",
    "#delete (Destroy): delete"
   ]
  },
  {
   "cell_type": "code",
   "execution_count": 2,
   "metadata": {},
   "outputs": [],
   "source": [
    "import mysql.connector\n",
    "conexao = mysql.connector.connect(\n",
    "    host='LopesDS',\n",
    "    user='LopesDS',\n",
    "    password='Ç9fgb34la7%@t01b&7ifj4la7#fdlb3&uh52$m',\n",
    "    database='firstpyodbc',\n",
    ")\n",
    "\n",
    "cursor = conexao.cursor()\n",
    "\n",
    "#Create\n",
    "\n",
    "nome_produto = \"salmão\"\n",
    "valor = 90.90\n",
    "comando = f'insert into vendas (nome_produto, valor) values(\"{nome_produto}\",\"{valor}\")'\n",
    "cursor.execute(comando)\n",
    "conexao.commit()#confirma mudança no banco"
   ]
  },
  {
   "cell_type": "code",
   "execution_count": 3,
   "metadata": {},
   "outputs": [
    {
     "name": "stdout",
     "output_type": "stream",
     "text": [
      "[(2, 'kopenhagen', Decimal('90')), (4, 'Miojo', Decimal('2')), (5, 'Kopenhagen', Decimal('99')), (6, 'Brunello', Decimal('500')), (7, 'CopaLombo', Decimal('50')), (8, 'Coca_cola600ml', Decimal('5')), (11, 'carpaccio', Decimal('76')), (12, 'salmão', Decimal('91'))]\n"
     ]
    }
   ],
   "source": [
    "import mysql.connector\n",
    "conexao = mysql.connector.connect(\n",
    "    host='LopesDS',\n",
    "    user='LopesDS',\n",
    "    password='Ç9fgb34la7%@t01b&7ifj4la7#fdlb3&uh52$m',\n",
    "    database='firstpyodbc',\n",
    ")\n",
    "\n",
    "cursor = conexao.cursor()\n",
    "\n",
    "#Read\n",
    "\n",
    "comando = f'select * from vendas'\n",
    "cursor.execute(comando)\n",
    "resultado = cursor.fetchall()\n",
    "print(resultado)"
   ]
  },
  {
   "cell_type": "code",
   "execution_count": 5,
   "metadata": {},
   "outputs": [],
   "source": [
    "import mysql.connector\n",
    "conexao = mysql.connector.connect(\n",
    "    host='LopesDS',\n",
    "    user='LopesDS',\n",
    "    password='Ç9fgb34la7%@t01b&7ifj4la7#fdlb3&uh52$m',\n",
    "    database='firstpyodbc',\n",
    ")\n",
    "\n",
    "cursor = conexao.cursor()\n",
    "\n",
    "#Update\n",
    "\n",
    "nome_produto = 'carpaccio'\n",
    "valor = 75.00\n",
    "comando = f'update vendas set valor = {valor} where nome_produto = \"{nome_produto}\"'\n",
    "cursor.execute(comando)\n",
    "conexao.commit()"
   ]
  },
  {
   "cell_type": "code",
   "execution_count": 6,
   "metadata": {},
   "outputs": [],
   "source": [
    "import mysql.connector\n",
    "conexao = mysql.connector.connect(\n",
    "    host='LopesDS',\n",
    "    user='LopesDS',\n",
    "    password='Ç9fgb34la7%@t01b&7ifj4la7#fdlb3&uh52$m',\n",
    "    database='firstpyodbc',\n",
    ")\n",
    "\n",
    "cursor = conexao.cursor()\n",
    "\n",
    "#Deleate\n",
    "\n",
    "nome_produto = 'miojo'\n",
    "comando = f'delete from vendas where nome_produto = \"{nome_produto}\"'\n",
    "cursor.execute(comando)\n",
    "conexao.commit()"
   ]
  }
 ],
 "metadata": {
  "kernelspec": {
   "display_name": "Python 3",
   "language": "python",
   "name": "python3"
  },
  "language_info": {
   "codemirror_mode": {
    "name": "ipython",
    "version": 3
   },
   "file_extension": ".py",
   "mimetype": "text/x-python",
   "name": "python",
   "nbconvert_exporter": "python",
   "pygments_lexer": "ipython3",
   "version": "3.8.5"
  }
 },
 "nbformat": 4,
 "nbformat_minor": 4
}
